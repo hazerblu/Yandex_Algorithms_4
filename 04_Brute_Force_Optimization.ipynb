{
 "cells": [
  {
   "cell_type": "code",
   "execution_count": null,
   "id": "d69aef05",
   "metadata": {},
   "outputs": [],
   "source": [
    "# рекурсивную реализацию всех перестановок пока отложила "
   ]
  },
  {
   "cell_type": "markdown",
   "id": "ecb51aa5",
   "metadata": {},
   "source": [
    "## Задача A. Все перестановки заданной длины"
   ]
  },
  {
   "cell_type": "raw",
   "id": "c7063096",
   "metadata": {},
   "source": [
    "По данному числу N (0 < N < 10) выведите все перестановки чисел от 1 до N в лексикографическом порядке. "
   ]
  },
  {
   "cell_type": "code",
   "execution_count": 24,
   "id": "4ecaa2e3",
   "metadata": {},
   "outputs": [
    {
     "name": "stdout",
     "output_type": "stream",
     "text": [
      "2\n",
      "12\n",
      "21\n"
     ]
    }
   ],
   "source": [
    "from itertools import permutations\n",
    "\n",
    "n = int(input())\n",
    "for i in permutations(range(1,n+1)):\n",
    "    perm = i\n",
    "    new_perm = [str(x) for x in perm]\n",
    "    print(''.join(new_perm))"
   ]
  },
  {
   "cell_type": "markdown",
   "id": "410de08c",
   "metadata": {},
   "source": [
    "## Задача B. Затерянный мир"
   ]
  },
  {
   "cell_type": "markdown",
   "id": "75d704d9",
   "metadata": {},
   "source": [
    "Расстановка N ферзей на поле размером N*N, чтобы ферзи не били друг друга \n",
    "\n",
    "(это нельзя по 1 строке, по 1 столбцу и по 2 диагоналям)"
   ]
  },
  {
   "cell_type": "code",
   "execution_count": 67,
   "id": "6b7770c7",
   "metadata": {},
   "outputs": [
    {
     "name": "stdout",
     "output_type": "stream",
     "text": [
      "8\n",
      "92\n"
     ]
    }
   ],
   "source": [
    "def ferz(col, n, diag, visited_row, visited_col, rez):\n",
    "    if col == (n+1):\n",
    "        return \n",
    "    for row in range(1, n+1):\n",
    "        if visited_row[row] == 0: # эту строку мж посетить (она свободна)\n",
    "            # надо проверить доступность диагоналей \n",
    "            for elem in diag:\n",
    "                if len(elem) != 0: # по пустым не идем \n",
    "                    # совпадение уже хотя бы по 1 - нельзя \n",
    "                    if (elem[0] + elem[1]) == (row + col):\n",
    "                        break\n",
    "                    elif (elem[0] - elem[1]) == (row - col):\n",
    "                        break\n",
    "            else: # если по всем диагоналям прошли проверку \n",
    "                visited_row[row] = 1\n",
    "                visited_col[col] = row \n",
    "                #diag.append((row, col))\n",
    "                diag[col] = [row, col]\n",
    "                ferz(col+1, n, diag, visited_row, visited_col, rez)\n",
    "    if col == n and sum(visited_row) == n: # посетили все строки\n",
    "        rez.append(1)\n",
    "    if col != 1: # только не для 1 колонки\n",
    "        numb = visited_col[col] # занятая строка этой колонки \n",
    "        visited_row[numb] = 0 # строка стала свободной\n",
    "        visited_col[col] = 0 # не посетили никакую строку \n",
    "        diag[col] = []\n",
    "        numb = visited_col[col-1] # занятая строка этой колонки \n",
    "        visited_row[numb] = 0 # строка стала свободной\n",
    "        visited_col[col-1] = 0 # не посетили никакую строку \n",
    "        diag[col-1] = []\n",
    "        \n",
    "n = int(input())  \n",
    "visited_row = [0] * (n+1)\n",
    "visited_col = [0] * (n+1)\n",
    "diag = [[] for i in range(n+1)]\n",
    "rez = []\n",
    "\n",
    "ferz(1, n, diag, visited_row, visited_col, rez)\n",
    "print(len(rez))\n",
    "\n",
    "# РАБОЧЕЕ РЕШЕНИЕ (с 1 раза!)"
   ]
  },
  {
   "cell_type": "code",
   "execution_count": 61,
   "id": "ebbc6cc3",
   "metadata": {},
   "outputs": [
    {
     "data": {
      "text/plain": [
       "5"
      ]
     },
     "execution_count": 61,
     "metadata": {},
     "output_type": "execute_result"
    }
   ],
   "source": [
    "sp = [1,1,1,1,1]\n",
    "sum(sp)"
   ]
  },
  {
   "cell_type": "code",
   "execution_count": null,
   "id": "c7838eb0",
   "metadata": {},
   "outputs": [],
   "source": []
  },
  {
   "cell_type": "markdown",
   "id": "22c76ddc",
   "metadata": {},
   "source": [
    "## Задача D. Простая задача коммивояжера"
   ]
  },
  {
   "cell_type": "markdown",
   "id": "ac37420d",
   "metadata": {},
   "source": [
    "Неориентированный взвешенный граф задан матрицей смежности. Найдите кратчайший цикл, который начинается и заканчивается в вершине номер 1 и проходит через все вершины по одному разу. \n",
    "\n",
    "https://contest.yandex.ru/contest/53032/problems/D/"
   ]
  },
  {
   "cell_type": "code",
   "execution_count": 35,
   "id": "20da1cc6",
   "metadata": {},
   "outputs": [],
   "source": [
    "# обход графа в глубину \n",
    "def dfs(graph, visited, now):\n",
    "    visited[now] = True \n",
    "    for neig in graph[now]: \n",
    "        if not visited[neig]:\n",
    "            dfs(graph, visited, neig)"
   ]
  },
  {
   "cell_type": "code",
   "execution_count": null,
   "id": "ae252ea6",
   "metadata": {},
   "outputs": [],
   "source": []
  },
  {
   "cell_type": "code",
   "execution_count": null,
   "id": "9b5e8871",
   "metadata": {},
   "outputs": [],
   "source": []
  },
  {
   "cell_type": "code",
   "execution_count": null,
   "id": "6c160d24",
   "metadata": {},
   "outputs": [],
   "source": []
  },
  {
   "cell_type": "code",
   "execution_count": 49,
   "id": "3b458114",
   "metadata": {},
   "outputs": [
    {
     "data": {
      "text/plain": [
       "11"
      ]
     },
     "execution_count": 49,
     "metadata": {},
     "output_type": "execute_result"
    }
   ],
   "source": [
    "import heapq\n",
    "\n",
    "# нам нужна куча минимумов \n",
    "sp = [100000]\n",
    "heapq.heapify(sp)\n",
    "heapq.heappush(sp, 12)\n",
    "heapq.heappush(sp, 11)\n",
    "heapq.heappush(sp, 100)\n",
    "heapq.heappush(sp, 132)\n",
    "heapq.heappush(sp, 12)\n",
    "sp[0]"
   ]
  },
  {
   "cell_type": "code",
   "execution_count": 50,
   "id": "c4fa7988",
   "metadata": {},
   "outputs": [
    {
     "data": {
      "text/plain": [
       "3"
      ]
     },
     "execution_count": 50,
     "metadata": {},
     "output_type": "execute_result"
    }
   ],
   "source": [
    "sp = [0,0,1,2,3,0]\n",
    "sp.count(0)"
   ]
  },
  {
   "cell_type": "code",
   "execution_count": null,
   "id": "9468e39f",
   "metadata": {},
   "outputs": [],
   "source": []
  },
  {
   "cell_type": "code",
   "execution_count": 58,
   "id": "089b6c56",
   "metadata": {},
   "outputs": [
    {
     "name": "stdout",
     "output_type": "stream",
     "text": [
      "1\n",
      "0\n",
      "0\n"
     ]
    }
   ],
   "source": [
    "# РАБОЧЕЕ РЕШЕНИЕ \n",
    "\n",
    "import sys\n",
    "sys.setrecursionlimit(100001)\n",
    "import heapq\n",
    "\n",
    "def dfs(graph, visited, now, ancestor, rez, f):\n",
    "    visited[now] = True\n",
    "    # print('tmp vertex', now)\n",
    "    colors[now] = 1\n",
    "    predok[now] = ancestor\n",
    "    ancestor = now\n",
    "    for neig in graph[now]:\n",
    "        if not visited[neig]:\n",
    "            dfs(graph, visited, neig, ancestor, rez, f)\n",
    "    colors[now] = 2\n",
    "    for neig in graph[now]:\n",
    "        if colors[neig] == 1 and neig != predok[now]:\n",
    "            # print('YES')\n",
    "            f = True\n",
    "            predok[neig] = now\n",
    "            break\n",
    "    if f:\n",
    "        rez.append(now)\n",
    "        elem = predok[now]\n",
    "        while elem != now:\n",
    "            rez.append(elem)\n",
    "            elem = predok[elem]\n",
    "        # print('loops elements', rez)\n",
    "        raise Exception\n",
    "\n",
    "\n",
    "def commi_voyage(M_gr, n, visited, prev, temp_vert, dist, tmp_min):\n",
    "    visited[temp_vert] = True\n",
    "    # print(temp_vert)\n",
    "    neighs = M_gr[temp_vert - 1]\n",
    "    f = True\n",
    "    for i in range(n):\n",
    "        # (i+1) - номер соседа\n",
    "        # если ребро существует и не посещали этого соседа\n",
    "        if neighs[i] != 0 and (not visited[i + 1]):\n",
    "            prev[i + 1] = temp_vert\n",
    "            # дистанция до родителя + ребро между ними\n",
    "            dist[i + 1] = dist[temp_vert] + neighs[i]\n",
    "            # if dist[i+1]  tmp_min[0]:\n",
    "            f = False\n",
    "            commi_voyage(M_gr, n, visited, prev, i + 1, dist, tmp_min)\n",
    "    if f:  # только в этом случае будем обновлять distance (дошли до конца ветки - больше нет соседей)\n",
    "        heapq.heappush(tmp_min, dist[temp_vert] + M_gr[temp_vert - 1][0])\n",
    "    visited[temp_vert] = False\n",
    "    # print('dist', dist[temp_vert])\n",
    "    dist[temp_vert] = 0\n",
    "\n",
    "\n",
    "n = int(input())\n",
    "\n",
    "M_gr = [[] for i in range(n)]\n",
    "for i in range(n):\n",
    "    sp = list(map(int, input().split()))\n",
    "    M_gr[i] = sp\n",
    "if n == 1:\n",
    "    print(0)\n",
    "elif n == 2:\n",
    "    if M_gr[0][1] == 0:\n",
    "        print(-1)\n",
    "    else:\n",
    "        visited = [False] * (n + 1)\n",
    "        prev = [None] * (n + 1)\n",
    "        dist = [0] * (n + 1)\n",
    "        tmp_min = [100000000]\n",
    "        heapq.heapify(tmp_min)  # теперь эта структура куча\n",
    "        commi_voyage(M_gr, n, visited, prev, 1, dist, tmp_min)\n",
    "        print(tmp_min[0])\n",
    "else:\n",
    "    # надо превратить из матрицы смежности в список смежности\n",
    "    graph = [[] for i in range(n + 1)]\n",
    "    for i in range(n):\n",
    "        for j in range(n):\n",
    "            if M_gr[i][j] != 0:\n",
    "                graph[i + 1].append(j + 1)\n",
    "    #print(graph)\n",
    "    rez = []\n",
    "    visited = [False] * (n + 1)\n",
    "    visited[0] = True\n",
    "    colors = [0] * (n + 1)\n",
    "    predok = [0] * (n + 1)\n",
    "    ancestor = 0\n",
    "    logic = True  # нет цикла\n",
    "    f = False\n",
    "    try:\n",
    "        dfs(graph, visited, 1, ancestor, rez, f)\n",
    "    except Exception:  # есть цикл\n",
    "        logic = False  # есть цикл\n",
    "        visited = [False] * (n + 1)\n",
    "        prev = [None] * (n + 1)\n",
    "        dist = [0] * (n + 1)\n",
    "        tmp_min = [100000000]\n",
    "        heapq.heapify(tmp_min)  # теперь эта структура куча\n",
    "        commi_voyage(M_gr, n, visited, prev, 1, dist, tmp_min)\n",
    "        print(tmp_min[0])\n",
    "    if logic:  # цикла в графе нет\n",
    "        print(-1)"
   ]
  },
  {
   "cell_type": "markdown",
   "id": "95a680be",
   "metadata": {},
   "source": [
    "## Задача С. Максимальный срез "
   ]
  },
  {
   "cell_type": "markdown",
   "id": "0fd01ccc",
   "metadata": {},
   "source": [
    "Взвешенный неориентированный граф без петель задан матрицей смежности. Распределите вершины по двум долям так, чтобы сумма весов рёбер, соединяющих вершины из разных долей, была максимальна.\n",
    "\n",
    "(0 <= N <= 20 - кол-во вершин) "
   ]
  },
  {
   "cell_type": "code",
   "execution_count": 87,
   "id": "c1b20121",
   "metadata": {},
   "outputs": [
    {
     "name": "stdout",
     "output_type": "stream",
     "text": [
      "4\n",
      "0 10 3 0\n",
      "10 0 7 2\n",
      "3 7 0 9\n",
      "0 2 9 0\n",
      "0 0 0 1\n",
      "0\n",
      "2\n",
      "11\n",
      "0 0 1 0\n",
      "3\n",
      "10\n",
      "19\n",
      "0 0 1 1\n",
      "3\n",
      "12\n",
      "0 1 0 0\n",
      "10\n",
      "17\n",
      "19\n",
      "0 1 0 1\n",
      "10\n",
      "26\n",
      "0 1 1 0\n",
      "13\n",
      "24\n",
      "0 1 1 1\n",
      "13\n",
      "1 0 0 0\n",
      "10\n",
      "13\n",
      "13\n",
      "1 0 0 1\n",
      "12\n",
      "24\n",
      "1 0 1 0\n",
      "17\n",
      "26\n",
      "1 0 1 1\n",
      "19\n",
      "1 1 0 0\n",
      "10\n",
      "12\n",
      "1 1 0 1\n",
      "19\n",
      "1 1 1 0\n",
      "11\n",
      "26\n",
      "[1, 1, 1, 0]\n"
     ]
    }
   ],
   "source": [
    "n = int(input())\n",
    "M_gr = [[] for i in range(n)]\n",
    "for i in range(n):\n",
    "    M_gr[i] = list(map(int, input().split()))\n",
    "    \n",
    "mx = 0\n",
    "rez = []\n",
    "for k in range(1, 2**n-1):\n",
    "    sp = [int(i) for i in bin(k)[2:].zfill(n)]\n",
    "    #print(*sp)\n",
    "    if sp[0] == 0: # первая вершина всегда в 0 \n",
    "        tmp = 0\n",
    "        for i in range(n):\n",
    "            if sp[i] == 0: # ищем путь только от 0 до 1\n",
    "                for j in range(n):\n",
    "                    if sp[j] == 1:\n",
    "                        tmp += M_gr[i][j]\n",
    "                #print(tmp)\n",
    "        if tmp > mx:\n",
    "            mx = tmp\n",
    "            rez = sp\n",
    "                \n",
    "print(mx)\n",
    "sp = [i+1 for i in sp]\n",
    "print(*sp)"
   ]
  },
  {
   "cell_type": "code",
   "execution_count": 78,
   "id": "f7b4569b",
   "metadata": {},
   "outputs": [
    {
     "data": {
      "text/plain": [
       "[0, 1, 1]"
      ]
     },
     "execution_count": 78,
     "metadata": {},
     "output_type": "execute_result"
    }
   ],
   "source": [
    "[int(i) for i in bin(3)[2:].zfill(3)]"
   ]
  },
  {
   "cell_type": "code",
   "execution_count": 89,
   "id": "e8f753d7",
   "metadata": {},
   "outputs": [
    {
     "name": "stdout",
     "output_type": "stream",
     "text": [
      "[1]\n"
     ]
    }
   ],
   "source": [
    "n = 1\n",
    "a = []\n",
    " \n",
    "while n:\n",
    "    a.append(n % 2)\n",
    "    n //= 2\n",
    "    \n",
    "a.reverse()\n",
    "print(a)"
   ]
  },
  {
   "cell_type": "markdown",
   "id": "e2295095",
   "metadata": {},
   "source": [
    "## Задача E. Генерация правильных скобочных последовательностей"
   ]
  },
  {
   "cell_type": "raw",
   "id": "9f93ac9d",
   "metadata": {},
   "source": [
    "По данному числу n выведите все правильные скобочные последовательности из круглых и квадратных скобок длины n в лексикографическом порядке. "
   ]
  },
  {
   "cell_type": "code",
   "execution_count": null,
   "id": "5845e5cf",
   "metadata": {},
   "outputs": [],
   "source": []
  },
  {
   "cell_type": "code",
   "execution_count": null,
   "id": "b59d1aaa",
   "metadata": {},
   "outputs": [],
   "source": []
  },
  {
   "cell_type": "code",
   "execution_count": null,
   "id": "e8e8c555",
   "metadata": {},
   "outputs": [],
   "source": []
  },
  {
   "cell_type": "code",
   "execution_count": null,
   "id": "f5e65fa1",
   "metadata": {},
   "outputs": [],
   "source": []
  },
  {
   "cell_type": "code",
   "execution_count": 1,
   "id": "c0095825",
   "metadata": {},
   "outputs": [
    {
     "name": "stdout",
     "output_type": "stream",
     "text": [
      "6\n",
      "((()))\n",
      "(([]))\n",
      "(()())\n",
      "(()[])\n",
      "(())()\n",
      "(())[]\n",
      "([()])\n",
      "([[]])\n",
      "([]())\n",
      "([][])\n",
      "([])()\n",
      "([])[]\n",
      "()(())\n",
      "()([])\n",
      "()()()\n",
      "()()[]\n",
      "()[()]\n",
      "()[[]]\n",
      "()[]()\n",
      "()[][]\n",
      "[(())]\n",
      "[([])]\n",
      "[()()]\n",
      "[()[]]\n",
      "[()]()\n",
      "[()][]\n",
      "[[()]]\n",
      "[[[]]]\n",
      "[[]()]\n",
      "[[][]]\n",
      "[[]]()\n",
      "[[]][]\n",
      "[](())\n",
      "[]([])\n",
      "[]()()\n",
      "[]()[]\n",
      "[][()]\n",
      "[][[]]\n",
      "[][]()\n",
      "[][][]\n"
     ]
    }
   ],
   "source": [
    "def is_good_bracket(rez):\n",
    "    stack = []\n",
    "    for skobk in rez:\n",
    "        if skobk == '(' or skobk == '[' or skobk == '{':\n",
    "            stack.append(skobk)\n",
    "        else: # встретили закрыв скобку\n",
    "            if len(stack) == 0:\n",
    "                return False\n",
    "            else: # длина стэка не 0\n",
    "                last_elem = stack[-1] # последний элемент\n",
    "                if (skobk == '}' and last_elem == '{') or (skobk == ')' and last_elem == '(') or (skobk == ']' and last_elem == '['):\n",
    "                    stack.pop()\n",
    "                else:\n",
    "                    return False\n",
    "    if len(stack) == 0:\n",
    "        return True\n",
    "    return False\n",
    "\n",
    "\n",
    "def good_brackets_adv(n, brackets, rez):\n",
    "    # в стеке нет закрыв скобки\n",
    "    if (len(rez) != 0 and rez[0] in (']', ')')):\n",
    "        rez.pop()\n",
    "        return\n",
    "    if (len(rez) == n):\n",
    "        if is_good_bracket(rez):\n",
    "            print(''.join(rez))\n",
    "        rez.pop()\n",
    "        return\n",
    "    for elem in brackets:\n",
    "        rez.append(elem)\n",
    "        good_brackets_adv(n, brackets, rez)\n",
    "    if (len(rez) != 0):\n",
    "        rez.pop()\n",
    "\n",
    "n = int(input())\n",
    "if (n % 2 == 0 and n != 0):\n",
    "    brackets = ['(', '[', ')', ']']\n",
    "    rez = []\n",
    "    good_brackets_adv(n, brackets, rez)\n",
    "    \n",
    "# Рабочий код в лоб, НО тайм лимит "
   ]
  },
  {
   "cell_type": "code",
   "execution_count": 2,
   "id": "f09f6e24",
   "metadata": {},
   "outputs": [
    {
     "name": "stdout",
     "output_type": "stream",
     "text": [
      "4\n",
      "(())\n",
      "([])\n",
      "()()\n",
      "()[]\n",
      "[()]\n",
      "[[]]\n",
      "[]()\n",
      "[][]\n"
     ]
    }
   ],
   "source": [
    "def good_brackets_adv(stack, max_len, brackets, rez):\n",
    "    if (len(stack) > max_len[-1] // 2):\n",
    "        stack.pop()\n",
    "        rez.pop()\n",
    "        max_len.pop()\n",
    "        return\n",
    "        # в стеке нет закрыв скобки\n",
    "    for elem in brackets:\n",
    "        if elem == '(':  # открыв скобки в стэк добавляем\n",
    "            stack.append('(')\n",
    "            rez.append('(')\n",
    "            max_len.append(max_len[-1])\n",
    "            good_brackets_adv(stack, max_len, brackets, rez)\n",
    "        elif elem == '[':  # открыв скобки в стэк добавляем\n",
    "            stack.append('[')\n",
    "            rez.append('[')\n",
    "            max_len.append(max_len[-1])\n",
    "            good_brackets_adv(stack, max_len, brackets, rez)\n",
    "        else:  # встретили закрыв скобку\n",
    "            # если закрыв скобка неправильного типа - ничего не делаем\n",
    "            if (len(stack) != 0):  # только в случае непустого стека\n",
    "                tmp_elem = stack[-1]\n",
    "                if tmp_elem == '(' and elem == ')':\n",
    "                    stack.pop()\n",
    "                    rez.append(elem)\n",
    "                    # последнее значение - 2\n",
    "                    l = max_len[-1]\n",
    "                    max_len.append(l-2)\n",
    "                    good_brackets_adv(stack, max_len, brackets, rez)\n",
    "                elif tmp_elem == '[' and elem == ']':\n",
    "                    stack.pop()\n",
    "                    rez.append(elem)\n",
    "                    l = max_len[-1]\n",
    "                    max_len.append(l - 2)\n",
    "                    good_brackets_adv(stack, max_len, brackets, rez)\n",
    "\n",
    "    if (len(rez) == n):\n",
    "        print(''.join(rez))\n",
    "        el = rez[-1]\n",
    "        if el == ')':\n",
    "            stack.append('(')\n",
    "        elif el == ']':\n",
    "            stack.append('[')\n",
    "        rez.pop()\n",
    "    elif (len(rez) != 0):\n",
    "        if (len(stack) != 0 and rez[-1] == '(' or rez[-1] == '['):\n",
    "            stack.pop()\n",
    "        elif rez[-1] == ')':\n",
    "            stack.append('(')\n",
    "        elif rez[-1] == ']':\n",
    "            stack.append('[')\n",
    "        rez.pop()\n",
    "    max_len.pop()\n",
    "\n",
    "\n",
    "n = int(input())\n",
    "if (n % 2 == 0 and n != 0):\n",
    "    brackets = ['(', '[', ')', ']']  # все виды скобок в лексикографич порядке\n",
    "    rez = []\n",
    "    stack = []\n",
    "    max_len = [n]\n",
    "    good_brackets_adv(stack, max_len, brackets, rez)\n",
    "    \n",
    "# РАБОЧЕЕ РЕШЕНИЕ ! "
   ]
  },
  {
   "cell_type": "code",
   "execution_count": null,
   "id": "86d0261f",
   "metadata": {},
   "outputs": [],
   "source": []
  }
 ],
 "metadata": {
  "kernelspec": {
   "display_name": "Python 3 (ipykernel)",
   "language": "python",
   "name": "python3"
  },
  "language_info": {
   "codemirror_mode": {
    "name": "ipython",
    "version": 3
   },
   "file_extension": ".py",
   "mimetype": "text/x-python",
   "name": "python",
   "nbconvert_exporter": "python",
   "pygments_lexer": "ipython3",
   "version": "3.9.7"
  }
 },
 "nbformat": 4,
 "nbformat_minor": 5
}
