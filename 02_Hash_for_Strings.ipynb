{
 "cells": [
  {
   "cell_type": "markdown",
   "id": "acb018f8",
   "metadata": {},
   "source": [
    "## Задача А. Равенство подстрок"
   ]
  },
  {
   "cell_type": "markdown",
   "id": "9eb99717",
   "metadata": {},
   "source": [
    "Дана строка S, состоящая из строчных латинских букв.\n",
    "Определите, совпадают ли строки одинаковой длины L, начинающиеся с позиций A и B (0 <= A, B <= abs(S-L))"
   ]
  },
  {
   "cell_type": "code",
   "execution_count": 8,
   "id": "7075d2df",
   "metadata": {},
   "outputs": [
    {
     "name": "stdout",
     "output_type": "stream",
     "text": [
      "caeabaeadedcbdcdccec\n",
      "10\n",
      "13 4 3\n",
      "no\n",
      "2 12 15\n",
      "no\n",
      "10 1 3\n",
      "no\n",
      "3 8 15\n",
      "no\n",
      "13 5 6\n",
      "no\n",
      "7 2 6\n",
      "no\n",
      "9 8 8\n",
      "yes\n",
      "19 0 0\n",
      "yes\n",
      "19 0 0\n",
      "yes\n",
      "6 7 13\n",
      "no\n"
     ]
    }
   ],
   "source": [
    "# подсчет хэшей для префиксов строки \n",
    "def hash_for_string(s, x_, p):\n",
    "    n = len(s)\n",
    "    h = [0] * (n+1) # массив хэшей \n",
    "    x = [1] * (n+1) # массив степеней x \n",
    "    # весь предподсчет проводим за линейное время \n",
    "    s = ' ' + s # для того, чтобы нумерацию вести с 1\n",
    "    for i in range(1, n+1):\n",
    "        h[i] = (h[i-1] * x_ + ord(s[i])) % p\n",
    "        x[i] = (x[i-1] * x_) % p\n",
    "        \n",
    "    return h, x\n",
    "\n",
    "# определение равенства двух подстрок \n",
    "def is_equal(a, b, l, h, x):\n",
    "    return (h[a+l-1] + h[b-1] * x[l]) % p == (h[b+l-1] + h[a-1] * x[l]) % p\n",
    "\n",
    "\n",
    "s = input()\n",
    "q = int(input())\n",
    "x_ = 260 # точка, в ктр считаем значение полинома \n",
    "p = 1000000000 + 7 # число, по модулю ктр будем все считать \n",
    "h, x = hash_for_string(s, x_, p)\n",
    "for i in range(q):\n",
    "    l, a, b = map(int, input().split())\n",
    "    if is_equal(a +1, b+1, l, h, x): # так как у нас нумерация с 1 \n",
    "        print('yes')\n",
    "    else:\n",
    "        print('no')\n",
    "       \n"
   ]
  },
  {
   "cell_type": "markdown",
   "id": "75443e8b",
   "metadata": {},
   "source": [
    "## Задача В. Основание строки"
   ]
  },
  {
   "cell_type": "markdown",
   "id": "3879f6e1",
   "metadata": {},
   "source": [
    "Найти минимальную строку, префикс от циклического повтора которой равен заданной \n",
    "\n",
    "s = abaabaab\n",
    "\n",
    "pref = aba (ответ на задачу - min префикс)\n",
    "\n",
    "inf_s = abaabaabaabaaba..."
   ]
  },
  {
   "cell_type": "code",
   "execution_count": 14,
   "id": "c69ab387",
   "metadata": {},
   "outputs": [
    {
     "name": "stdout",
     "output_type": "stream",
     "text": [
      "abcdefa\n",
      "6\n"
     ]
    }
   ],
   "source": [
    "# для решения этой задачи ищем максимальный по длине префикс, совпадающий с суффиксом\n",
    "# для начала надо просчитать все хэши для префиксов \n",
    "\n",
    "# подсчет хэшей для префиксов строки \n",
    "def hash_for_string(s, x_, p):\n",
    "    n = len(s)\n",
    "    h = [0] * (n+1) # массив хэшей \n",
    "    x = [1] * (n+1) # массив степеней x \n",
    "    # весь предподсчет проводим за линейное время \n",
    "    s = ' ' + s # для того, чтобы нумерацию вести с 1\n",
    "    for i in range(1, n+1):\n",
    "        h[i] = (h[i-1] * x_ + ord(s[i])) % p\n",
    "        x[i] = (x[i-1] * x_) % p\n",
    "        \n",
    "    return h, x\n",
    "\n",
    "# определение равенства двух подстрок \n",
    "def is_equal(a, b, l, h, x):\n",
    "    return (h[a+l-1] + h[b-1] * x[l]) % p == (h[b+l-1] + h[a-1] * x[l]) % p\n",
    "\n",
    "\n",
    "s = input()\n",
    "x_ = 260 # точка, в ктр считаем значение полинома \n",
    "p = 1000000000 + 7 # число, по модулю ктр будем все считать \n",
    "h, x = hash_for_string(s, x_, p)\n",
    "# начинаем с самого начала и сравниваем префикс и суфикс\n",
    "mx = 0\n",
    "n = len(s)\n",
    "for i in range(0, n-1): # идем до предпоследнего символа\n",
    "    l = i + 1\n",
    "    a = 1\n",
    "    b = n - i\n",
    "    if is_equal(a, b, l, h, x) and l > mx:\n",
    "        mx = l\n",
    "        \n",
    "if mx == 0:\n",
    "    print(n)\n",
    "else:\n",
    "    print(n - mx)"
   ]
  },
  {
   "cell_type": "markdown",
   "id": "ff983394",
   "metadata": {},
   "source": [
    "## Задача - какой суффикс лексикографически меньше "
   ]
  },
  {
   "cell_type": "code",
   "execution_count": 39,
   "id": "f32cf14d",
   "metadata": {},
   "outputs": [
    {
     "name": "stdout",
     "output_type": "stream",
     "text": [
      "abacababa\n",
      "10\n",
      "0 0\n",
      "equal\n",
      "0 1\n",
      "less\n",
      "0 8 \n",
      "greater\n",
      "0 6\n",
      "greater\n",
      "0 3\n",
      "less\n",
      "0 4\n",
      "greater\n",
      "1 5 \n",
      "greater\n",
      "3 7 \n",
      "greater\n",
      "4 7\n",
      "less\n",
      "4 6\n",
      "greater\n"
     ]
    }
   ],
   "source": [
    "# подсчет хэшей для префиксов строки \n",
    "def hash_for_string(s, x_, p):\n",
    "    n = len(s)\n",
    "    h = [0] * (n+1) # массив хэшей \n",
    "    x = [1] * (n+1) # массив степеней x \n",
    "    # весь предподсчет проводим за линейное время \n",
    "    s = ' ' + s # для того, чтобы нумерацию вести с 1\n",
    "    for i in range(1, n+1):\n",
    "        h[i] = (h[i-1] * x_ + ord(s[i])) % p\n",
    "        x[i] = (x[i-1] * x_) % p\n",
    "        \n",
    "    return h, x\n",
    "\n",
    "# определение равенства двух подстрок \n",
    "def is_equal(a, b, l, h, x):\n",
    "    return (h[a+l-1] + h[b-1] * x[l]) % p == (h[b+l-1] + h[a-1] * x[l]) % p\n",
    "\n",
    "\n",
    "def bin_search_for_string(f1, f2, s):\n",
    "    l = f2\n",
    "    r = len(s) - 1\n",
    "    while l <= r:\n",
    "        m = (l + r) // 2\n",
    "        #print(m)\n",
    "        len_s = m - f2 + 1\n",
    "        if is_equal(f1+1, f2+1, len_s, h, x):\n",
    "            l = m + 1\n",
    "        else:\n",
    "            r = m - 1   \n",
    "    return l \n",
    "\n",
    "s = input()\n",
    "x_ = 260 # точка, в ктр считаем значение полинома \n",
    "p = 1000000000 + 7 # число, по модулю ктр будем все считать \n",
    "h, x = hash_for_string(s, x_, p) # заранее сосчитали хэши префиксов \n",
    "q = int(input()) # кол-во запросов \n",
    "for i in range(q):\n",
    "    f1, f2 = map(int, input().split()) # f1 <= f2 (0 <= f1 <= f2 <= len(s)-1)\n",
    "    if (f1 == f2):\n",
    "        print('equal')\n",
    "    else: # строки не совпадают \n",
    "        rez = bin_search_for_string(f1, f2, s)\n",
    "        if rez == len(s):\n",
    "            print('greater')\n",
    "        else:\n",
    "            len_s = f2 - f1\n",
    "            if s[rez - len_s] > s[rez]:\n",
    "                print('greater')\n",
    "            else:\n",
    "                print('less')\n",
    "\n",
    "# в символе, в ктр не равна надо смотреть на равенство/неравенство этого символа (если он есть)"
   ]
  },
  {
   "cell_type": "markdown",
   "id": "901c8208",
   "metadata": {},
   "source": [
    "## Задача С. Z-функция"
   ]
  },
  {
   "cell_type": "markdown",
   "id": "4a45251e",
   "metadata": {},
   "source": [
    "Вычислите z-функцию z[i] для всех i от 0 до N-1.\n",
    "\n",
    "z[i] определяется как максимальная длина подстроки, начинающейся с позиции i и совпадающей с префиксом всей строки. \n",
    "\n",
    "z[0] = 0"
   ]
  },
  {
   "cell_type": "code",
   "execution_count": 45,
   "id": "2cdf4ca2",
   "metadata": {},
   "outputs": [
    {
     "name": "stdout",
     "output_type": "stream",
     "text": [
      "abracadabra\n",
      "0 0 0 1 0 1 0 4 0 0 1\n"
     ]
    }
   ],
   "source": [
    "# надо для каждой строки построить z-функцию\n",
    "\n",
    "# используем материалы предыдущей задачи \n",
    "# подсчет хэшей для префиксов строки \n",
    "def hash_for_string(s, x_, p):\n",
    "    n = len(s)\n",
    "    h = [0] * (n+1) # массив хэшей \n",
    "    x = [1] * (n+1) # массив степеней x \n",
    "    # весь предподсчет проводим за линейное время \n",
    "    s = ' ' + s # для того, чтобы нумерацию вести с 1\n",
    "    for i in range(1, n+1):\n",
    "        h[i] = (h[i-1] * x_ + ord(s[i])) % p\n",
    "        x[i] = (x[i-1] * x_) % p\n",
    "        \n",
    "    return h, x\n",
    "\n",
    "# определение равенства двух подстрок \n",
    "def is_equal(a, b, l, h, x):\n",
    "    return (h[a+l-1] + h[b-1] * x[l]) % p == (h[b+l-1] + h[a-1] * x[l]) % p\n",
    "\n",
    "def bin_search_for_string(f1, f2, s):\n",
    "    l = f2\n",
    "    r = len(s) - 1\n",
    "    while l <= r:\n",
    "        m = (l + r) // 2\n",
    "        #print(m)\n",
    "        len_s = m - f2 + 1\n",
    "        if is_equal(f1+1, f2+1, len_s, h, x):\n",
    "            l = m + 1\n",
    "        else:\n",
    "            r = m - 1   \n",
    "    return l \n",
    "\n",
    "s = input()\n",
    "z = [0] * len(s)\n",
    "x_ = 260 # точка, в ктр считаем значение полинома \n",
    "p = 1000000000 + 7 # число, по модулю ктр будем все считать \n",
    "h, x = hash_for_string(s, x_, p) # заранее сосчитали хэши префиксов \n",
    "n = len(s)\n",
    "for i in range(1, n):\n",
    "    rez = bin_search_for_string(0, i, s)\n",
    "    z[i] = rez - i \n",
    "    \n",
    "print(*z)\n",
    "\n",
    "# c 1 раза!!! - но на компиляторе PyPy "
   ]
  },
  {
   "cell_type": "markdown",
   "id": "75fcdeea",
   "metadata": {},
   "source": [
    "## Задача D. Кубики в зеркале"
   ]
  },
  {
   "cell_type": "markdown",
   "id": "41ac2a3f",
   "metadata": {},
   "source": [
    "Условие задачи: \n",
    "https://contest.yandex.ru/contest/53030/problems/D/"
   ]
  },
  {
   "cell_type": "code",
   "execution_count": 77,
   "id": "a167b994",
   "metadata": {},
   "outputs": [
    {
     "name": "stdout",
     "output_type": "stream",
     "text": [
      "6 2\n",
      "1 1 2 2 1 1\n",
      "3 5 6\n"
     ]
    }
   ],
   "source": [
    "# хэшируем список из чисел \n",
    "def hash_for_array(sp, x_, p):\n",
    "    n = len(sp)\n",
    "    h = [0] * (n+1) # массив хэшей \n",
    "    x = [1] * (n+1) # массив степеней x \n",
    "    # весь предподсчет проводим за линейное время \n",
    "    for i in range(1, n+1):\n",
    "        h[i] = (h[i-1] * x_ + sp[i-1]) % p\n",
    "        x[i] = (x[i-1] * x_) % p    \n",
    "    return h, x\n",
    "\n",
    "def is_equal(a, b, l, h1, x1, h2, x2):\n",
    "    return (h1[a+l-1] + h2[b-1] * x2[l]) % p == (h2[b+l-1] + h1[a-1] * x1[l]) % p\n",
    "\n",
    "\n",
    "n, m = map(int, input().split())\n",
    "sp = list(map(int, input().split()))\n",
    "x_ = 1000003 # точка, в ктр считаем значение полинома (берем простое число большее длины алфавита)\n",
    "p = 1000000000 + 7 # число, по модулю ктр будем все считать \n",
    "h1, x1 = hash_for_array(sp, x_, p)\n",
    "# 1) для исходного списка сосчитаем хэши \n",
    "# 2) для первой половины перевернутого списка составляем хэши \n",
    "sp_half_rev = sp[n//2-1::-1]\n",
    "new_len = len(sp_half_rev)\n",
    "h2, x2 = hash_for_array(sp_half_rev, x_, p)\n",
    "rez = [n]\n",
    "# после какого i стоит зеркало\n",
    "for i in range(n//2):\n",
    "    tmp_len = i + 1\n",
    "    if is_equal(i+1+1, new_len - 1 - i + 1, tmp_len, h1, x1, h2, x2): \n",
    "        # если равны, то надо добавить это кол-во кубиков \n",
    "        rez.append(n-1-i)\n",
    "rez.reverse()        \n",
    "print(*rez)"
   ]
  },
  {
   "cell_type": "markdown",
   "id": "5fc83283",
   "metadata": {},
   "source": [
    "## Задача E. Подпалиндромы"
   ]
  },
  {
   "cell_type": "markdown",
   "id": "7c3e675f",
   "metadata": {},
   "source": [
    "Строка называется палиндромом, если она читается одинаково как слева направо, так и справа налево. Например, строки abba, ata являются палиндромами.\n",
    "\n",
    "Вам дана строка. Ее подстрокой называется некоторая непустая последовательность подряд идущих символов. \n",
    "Напишите программу, которая определит, сколько подстрок данной строки является палиндромами."
   ]
  },
  {
   "cell_type": "code",
   "execution_count": 162,
   "id": "b943da7e",
   "metadata": {},
   "outputs": [
    {
     "name": "stdout",
     "output_type": "stream",
     "text": [
      "abavaba\n",
      "12\n"
     ]
    }
   ],
   "source": [
    "# для решения задачи надо взять хэши от исходной подстроки и от обратной к ней \n",
    "\n",
    "def hash_for_string(s, x_, p):\n",
    "    n = len(s)\n",
    "    h = [0] * (n+1) # массив хэшей \n",
    "    # весь предподсчет проводим за линейное время \n",
    "    s = ' ' + s # для того, чтобы нумерацию вести с 1\n",
    "    for i in range(1, n+1):\n",
    "        h[i] = (h[i-1] * x_ + ord(s[i])) % p\n",
    "        \n",
    "    return h\n",
    "\n",
    "def power_x(x_, n):\n",
    "    x = [1] * (n+1) # массив степеней x \n",
    "    for i in range(1, n+1):\n",
    "        x[i] = (x[i-1] * x_) % p\n",
    "    return x\n",
    "\n",
    "def hash_for_string_rev(s, x_, p):\n",
    "    n = len(s)\n",
    "    h = [0] * (n+1) # массив хэшей \n",
    "    # весь предподсчет проводим за линейное время \n",
    "    s = s + ' ' # для того, чтобы нумерацию вести с 1\n",
    "    for i in range(1, n+1):\n",
    "        h[i] = (h[i-1] * x_ + ord(s[n-i])) % p\n",
    "        \n",
    "    return h\n",
    "\n",
    "# определение равенства двух подстрок \n",
    "def is_equal(a, b, l, h1, h2, x):\n",
    "    return (h1[a+l-1] + h2[b-1] * x[l]) % p == (h2[b+l-1] + h1[a-1] * x[l]) % p\n",
    "\n",
    "s = input()\n",
    "n = len(s)\n",
    "x_ = 260 # точка, в ктр считаем значение полинома (у нас символы только буквы латинского алф)\n",
    "p = 1000000000 + 7 # число, по модулю ктр будем все считать \n",
    "h1 = hash_for_string(s, x_, p)\n",
    "h2 = hash_for_string_rev(s, x_, p)\n",
    "x = power_x(x_, n)\n",
    "k = 0\n",
    "for i in range(n):\n",
    "    for j in range(i, n):\n",
    "        tmp_len = j - i + 1\n",
    "        if is_equal(i+1, n-1-j+1 ,tmp_len, h1, h2, x):\n",
    "            k += 1\n",
    "            #print(s[i:j+1])\n",
    "print(k)\n",
    "\n",
    "# решение квадратичное - не заходит (TL), так как хотят видеть сложность O(NlogN) (через бин поиск)"
   ]
  },
  {
   "cell_type": "code",
   "execution_count": 161,
   "id": "be83273c",
   "metadata": {},
   "outputs": [
    {
     "name": "stdout",
     "output_type": "stream",
     "text": [
      "abavaba\n",
      "12\n"
     ]
    }
   ],
   "source": [
    "# делаем подпалиндромы по-другому (через бин поиск [за логарифмич сложность])\n",
    "\n",
    "def hash_for_string(s, x_, p):\n",
    "    n = len(s)\n",
    "    h = [0] * (n+1) # массив хэшей \n",
    "    # весь предподсчет проводим за линейное время \n",
    "    s = ' ' + s # для того, чтобы нумерацию вести с 1\n",
    "    for i in range(1, n+1):\n",
    "        h[i] = (h[i-1] * x_ + ord(s[i])) % p\n",
    "        \n",
    "    return h\n",
    "\n",
    "def power_x(x_, n):\n",
    "    x = [1] * (n+1) # массив степеней x \n",
    "    for i in range(1, n+1):\n",
    "        x[i] = (x[i-1] * x_) % p\n",
    "    return x\n",
    "\n",
    "def hash_for_string_rev(s, x_, p):\n",
    "    n = len(s)\n",
    "    h = [0] * (n+1) # массив хэшей \n",
    "    # весь предподсчет проводим за линейное время \n",
    "    s = s + ' ' # для того, чтобы нумерацию вести с 1\n",
    "    for i in range(1, n+1):\n",
    "        h[i] = (h[i-1] * x_ + ord(s[n-i])) % p\n",
    "    return h\n",
    "\n",
    "# определение равенства двух подстрок \n",
    "def is_equal(a, b, l, h1, h2, x):\n",
    "    return (h1[a+l-1] + h2[b-1] * x[l]) % p == (h2[b+l-1] + h1[a-1] * x[l]) % p\n",
    "\n",
    "def bin_search(tmp_ind, s):\n",
    "    # ind_beg - всегда будет 0, так как начинаем слева \n",
    "    # ind_end - индекс элемента, на ктр стоим\n",
    "    n = len(s)\n",
    "    if tmp_ind <= (n-1)//2:\n",
    "        l = 0\n",
    "    else:\n",
    "        l = tmp_ind - (n - 1 - tmp_ind)\n",
    "    r = tmp_ind - 1\n",
    "    while l <= r:\n",
    "        m = (l + r) // 2\n",
    "        tmp_len = (tmp_ind - m) * 2 + 1 # длина подстроки текущая\n",
    "        #print('1', new_s[m:m + tmp_len])\n",
    "        #print('2', new_s[::-1][n -m - tmp_len :n - m])\n",
    "        if is_equal(m+1, n -m - tmp_len + 1, tmp_len, h1, h2, x): # строки совпали - проверка за const \n",
    "            # тогда мж поискать еще большей длины \n",
    "            #print('here')\n",
    "            r = m - 1\n",
    "        else: # это уже не палиндром - сужаем поиски \n",
    "            l = m + 1\n",
    "    return l # возврат на первый символ, с ктр максим палиндром \n",
    "    \n",
    "\n",
    "\n",
    "s = input()\n",
    "# добавим символ-разделитель после каждого символа кроме последнего\n",
    "new_s = ''\n",
    "for i in range(len(s)-1):\n",
    "    new_s += s[i] + '#'\n",
    "new_s += s[len(s)-1]\n",
    "n = len(new_s)\n",
    "x_ = 277 # точка, в ктр считаем значение полинома (у нас символы только буквы латинского алф)\n",
    "p = 1000000000 + 7 # число, по модулю ктр будем все считать \n",
    "h1 = hash_for_string(new_s, x_, p)\n",
    "h2 = hash_for_string_rev(new_s, x_, p)\n",
    "x = power_x(x_, n)\n",
    "#print(new_s)\n",
    "\n",
    "# бинарный поиск оттестирован! \n",
    "#bin_search(1, new_s)\n",
    "\n",
    "# при расчетах я не буду учитывать подпалиндромы единичной длины, чтобы потом их просто добавить одномоментно\n",
    "\n",
    "k = 0 # итоговый результат \n",
    "for i in range(n):\n",
    "    rez = bin_search(i, new_s)\n",
    "    #print(f'tmp_step {i}')\n",
    "    #print('bin_rez', rez)\n",
    "    if new_s[i] == '#':\n",
    "        # a - длина текущего подпалиндрома (число только четное)\n",
    "        a = ((i - rez) + 2 - 1) // 2 # формула для округления вверх при делении на 2\n",
    "        #print('a', a)\n",
    "        a *= 2\n",
    "        k += a // 2\n",
    "    else: # текущий символ не решетка \n",
    "        # b - длина текущего подпалиндрома (число только нечетное)\n",
    "        b = (i - rez) // 2\n",
    "        b *= 2\n",
    "        b += 1\n",
    "        #print('b', b)\n",
    "        k += b // 2\n",
    "    #print(k)\n",
    "        \n",
    "k += len(s) # прибавление числа символов исходной строки\n",
    "print(k)\n",
    "\n",
    "# ЗАШЛО с 1 раза! "
   ]
  },
  {
   "cell_type": "code",
   "execution_count": 153,
   "id": "908bfd3f",
   "metadata": {},
   "outputs": [
    {
     "data": {
      "text/plain": [
       "122"
      ]
     },
     "execution_count": 153,
     "metadata": {},
     "output_type": "execute_result"
    }
   ],
   "source": [
    "ord('z')"
   ]
  },
  {
   "cell_type": "code",
   "execution_count": null,
   "id": "6bdb20c2",
   "metadata": {},
   "outputs": [],
   "source": []
  }
 ],
 "metadata": {
  "kernelspec": {
   "display_name": "Python 3 (ipykernel)",
   "language": "python",
   "name": "python3"
  },
  "language_info": {
   "codemirror_mode": {
    "name": "ipython",
    "version": 3
   },
   "file_extension": ".py",
   "mimetype": "text/x-python",
   "name": "python",
   "nbconvert_exporter": "python",
   "pygments_lexer": "ipython3",
   "version": "3.9.7"
  }
 },
 "nbformat": 4,
 "nbformat_minor": 5
}
